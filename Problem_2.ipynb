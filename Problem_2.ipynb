{
 "cells": [
  {
   "cell_type": "code",
   "execution_count": 1,
   "metadata": {},
   "outputs": [],
   "source": [
    "import numpy as np\n",
    "from itertools import product\n",
    "from copy import copy\n",
    "from scipy.sparse import csr_matrix"
   ]
  },
  {
   "cell_type": "code",
   "execution_count": 2,
   "metadata": {},
   "outputs": [],
   "source": [
    "def lin_ind(ind,n):\n",
    "    x = 0 \n",
    "    d= len(ind)\n",
    "    for i,j in enumerate(ind):\n",
    "        assert(j<n) \n",
    "        x=x+j*n**(d-1-i)\n",
    "    return x\n",
    "\n",
    "\n",
    "def adj_matrix(d,n):\n",
    "    l = [range(n) for dim in range(d)]\n",
    "    mat = np.zeros((n**d,n**d))\n",
    "    for ind in product(*l):\n",
    "        cur_flat = lin_ind(ind,n)\n",
    "        for i in range(d):\n",
    "            cur= list(copy(ind))\n",
    "            if ind[i]<n-1:\n",
    "                cur[i] = cur[i]+1\n",
    "                #print(cur)\n",
    "                flat_ind = lin_ind(cur,n)\n",
    "                \n",
    "                mat[cur_flat][flat_ind]=1\n",
    "                mat[flat_ind][cur_flat]=1\n",
    "    return mat\n",
    "            \n",
    "        \n",
    "    "
   ]
  },
  {
   "cell_type": "code",
   "execution_count": 3,
   "metadata": {},
   "outputs": [],
   "source": [
    "A = adj_matrix(4,10)"
   ]
  },
  {
   "cell_type": "code",
   "execution_count": null,
   "metadata": {},
   "outputs": [],
   "source": [
    "mat = A\n",
    "for i in range(9):\n",
    "    print(i)\n",
    "    mat = np.dot(mat,A)\n",
    "    "
   ]
  },
  {
   "cell_type": "code",
   "execution_count": null,
   "metadata": {},
   "outputs": [],
   "source": [
    "dim1 = mat.shape[0]\n",
    "ar = np.sum(mat,axis=0)\n",
    "\n",
    "    "
   ]
  },
  {
   "cell_type": "code",
   "execution_count": null,
   "metadata": {},
   "outputs": [],
   "source": [
    "ar[0]"
   ]
  },
  {
   "cell_type": "code",
   "execution_count": 4,
   "metadata": {},
   "outputs": [],
   "source": [
    "A_sparse = csr_matrix(A)"
   ]
  },
  {
   "cell_type": "code",
   "execution_count": 5,
   "metadata": {},
   "outputs": [
    {
     "name": "stdout",
     "output_type": "stream",
     "text": [
      "0\n",
      "1\n",
      "2\n",
      "3\n",
      "4\n",
      "5\n",
      "6\n",
      "7\n",
      "8\n"
     ]
    }
   ],
   "source": [
    "mat_s = A_sparse\n",
    "for i in range(9):\n",
    "    print(i)\n",
    "    mat_s = mat_s.dot(A_sparse)"
   ]
  },
  {
   "cell_type": "code",
   "execution_count": 6,
   "metadata": {},
   "outputs": [
    {
     "data": {
      "text/plain": [
       "matrix([[44569724., 76425853., 92919513., ..., 92919513., 76425853.,\n",
       "         44569724.]])"
      ]
     },
     "execution_count": 6,
     "metadata": {},
     "output_type": "execute_result"
    }
   ],
   "source": [
    "mat_s.sum(axis=0)"
   ]
  },
  {
   "cell_type": "code",
   "execution_count": 7,
   "metadata": {},
   "outputs": [],
   "source": [
    "def sparse_adj_matrix(d,n):\n",
    "    l = [range(n) for dim in range(d)]\n",
    "    row_ind, col_ind, data = [],[],[]\n",
    "    iter_num =0\n",
    "    for ind in product(*l):\n",
    "        if iter_num%100000==0:\n",
    "            print(iter_num)\n",
    "        cur_flat = lin_ind(ind,n)\n",
    "        for i in range(d):\n",
    "            cur= list(copy(ind))\n",
    "            if ind[i]<n-1:\n",
    "                cur[i] = cur[i]+1\n",
    "                #print(cur)\n",
    "                flat_ind = lin_ind(cur,n)\n",
    "                row_ind.append(cur_flat)\n",
    "                row_ind.append(flat_ind)\n",
    "                col_ind.append(flat_ind)\n",
    "                col_ind.append(cur_flat)\n",
    "                data.append(1)\n",
    "                data.append(1)\n",
    "        iter_num = iter_num +1\n",
    "    return row_ind, col_ind, data"
   ]
  },
  {
   "cell_type": "code",
   "execution_count": 8,
   "metadata": {},
   "outputs": [
    {
     "name": "stdout",
     "output_type": "stream",
     "text": [
      "0\n"
     ]
    }
   ],
   "source": [
    "row_ind, col_ind, data = sparse_adj_matrix(4,10)"
   ]
  },
  {
   "cell_type": "code",
   "execution_count": 11,
   "metadata": {},
   "outputs": [],
   "source": [
    "n,d=10,4\n",
    "B = csr_matrix((data, (row_ind, col_ind)), shape=(n**d, n**d))"
   ]
  },
  {
   "cell_type": "code",
   "execution_count": 12,
   "metadata": {},
   "outputs": [
    {
     "name": "stdout",
     "output_type": "stream",
     "text": [
      "0\n",
      "1\n",
      "2\n",
      "3\n",
      "4\n",
      "5\n",
      "6\n",
      "7\n",
      "8\n"
     ]
    }
   ],
   "source": [
    "mat_s = A_sparse\n",
    "for i in range(9):\n",
    "    print(i)\n",
    "    mat_s = mat_s.dot(A_sparse)"
   ]
  },
  {
   "cell_type": "code",
   "execution_count": 13,
   "metadata": {},
   "outputs": [
    {
     "data": {
      "text/plain": [
       "matrix([[44569724., 76425853., 92919513., ..., 92919513., 76425853.,\n",
       "         44569724.]])"
      ]
     },
     "execution_count": 13,
     "metadata": {},
     "output_type": "execute_result"
    }
   ],
   "source": [
    "mat_s.sum(axis=0)"
   ]
  },
  {
   "cell_type": "code",
   "execution_count": null,
   "metadata": {},
   "outputs": [],
   "source": []
  }
 ],
 "metadata": {
  "kernelspec": {
   "display_name": "Python 3",
   "language": "python",
   "name": "python3"
  },
  "language_info": {
   "codemirror_mode": {
    "name": "ipython",
    "version": 3
   },
   "file_extension": ".py",
   "mimetype": "text/x-python",
   "name": "python",
   "nbconvert_exporter": "python",
   "pygments_lexer": "ipython3",
   "version": "3.6.8"
  }
 },
 "nbformat": 4,
 "nbformat_minor": 2
}
